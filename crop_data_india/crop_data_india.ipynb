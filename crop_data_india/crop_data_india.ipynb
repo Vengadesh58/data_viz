{
 "cells": [
  {
   "cell_type": "markdown",
   "id": "b184bac2",
   "metadata": {},
   "source": [
    "#Data visualization of Crop production in Indian states"
   ]
  },
  {
   "cell_type": "code",
   "execution_count": 2,
   "id": "5d3f7aaf",
   "metadata": {},
   "outputs": [],
   "source": [
    "\n",
    "import pandas as pd\n",
    "import numpy as np\n",
    "import matplotlib.pyplot as plt\n",
    "%matplotlib inline\n",
    "import geopandas as gpd\n",
    "import seaborn as sns \n",
    "import plotly.express as px\n",
    "from shapely.geometry import Point\n",
    "import warnings\n",
    "warnings.filterwarnings(\"ignore\")"
   ]
  },
  {
   "cell_type": "code",
   "execution_count": 3,
   "id": "9a322ec8",
   "metadata": {},
   "outputs": [
    {
     "data": {
      "text/html": [
       "<div>\n",
       "<style scoped>\n",
       "    .dataframe tbody tr th:only-of-type {\n",
       "        vertical-align: middle;\n",
       "    }\n",
       "\n",
       "    .dataframe tbody tr th {\n",
       "        vertical-align: top;\n",
       "    }\n",
       "\n",
       "    .dataframe thead th {\n",
       "        text-align: right;\n",
       "    }\n",
       "</style>\n",
       "<table border=\"1\" class=\"dataframe\">\n",
       "  <thead>\n",
       "    <tr style=\"text-align: right;\">\n",
       "      <th></th>\n",
       "      <th>index</th>\n",
       "      <th>State_Name</th>\n",
       "      <th>District_Name</th>\n",
       "      <th>Crop_Year</th>\n",
       "      <th>Season</th>\n",
       "      <th>Crop</th>\n",
       "      <th>Area</th>\n",
       "      <th>Production</th>\n",
       "    </tr>\n",
       "  </thead>\n",
       "  <tbody>\n",
       "    <tr>\n",
       "      <th>0</th>\n",
       "      <td>0</td>\n",
       "      <td>Andaman and Nicobar Islands</td>\n",
       "      <td>NICOBARS</td>\n",
       "      <td>2000</td>\n",
       "      <td>Kharif</td>\n",
       "      <td>Arecanut</td>\n",
       "      <td>1254.0</td>\n",
       "      <td>2000.0</td>\n",
       "    </tr>\n",
       "    <tr>\n",
       "      <th>1</th>\n",
       "      <td>1</td>\n",
       "      <td>Andaman and Nicobar Islands</td>\n",
       "      <td>NICOBARS</td>\n",
       "      <td>2000</td>\n",
       "      <td>Kharif</td>\n",
       "      <td>Other Kharif pulses</td>\n",
       "      <td>2.0</td>\n",
       "      <td>1.0</td>\n",
       "    </tr>\n",
       "    <tr>\n",
       "      <th>2</th>\n",
       "      <td>2</td>\n",
       "      <td>Andaman and Nicobar Islands</td>\n",
       "      <td>NICOBARS</td>\n",
       "      <td>2000</td>\n",
       "      <td>Kharif</td>\n",
       "      <td>Rice</td>\n",
       "      <td>102.0</td>\n",
       "      <td>321.0</td>\n",
       "    </tr>\n",
       "    <tr>\n",
       "      <th>3</th>\n",
       "      <td>3</td>\n",
       "      <td>Andaman and Nicobar Islands</td>\n",
       "      <td>NICOBARS</td>\n",
       "      <td>2000</td>\n",
       "      <td>Whole Year</td>\n",
       "      <td>Banana</td>\n",
       "      <td>176.0</td>\n",
       "      <td>641.0</td>\n",
       "    </tr>\n",
       "    <tr>\n",
       "      <th>4</th>\n",
       "      <td>4</td>\n",
       "      <td>Andaman and Nicobar Islands</td>\n",
       "      <td>NICOBARS</td>\n",
       "      <td>2000</td>\n",
       "      <td>Whole Year</td>\n",
       "      <td>Cashewnut</td>\n",
       "      <td>720.0</td>\n",
       "      <td>165.0</td>\n",
       "    </tr>\n",
       "  </tbody>\n",
       "</table>\n",
       "</div>"
      ],
      "text/plain": [
       "   index                   State_Name District_Name  Crop_Year       Season  \\\n",
       "0      0  Andaman and Nicobar Islands      NICOBARS       2000  Kharif        \n",
       "1      1  Andaman and Nicobar Islands      NICOBARS       2000  Kharif        \n",
       "2      2  Andaman and Nicobar Islands      NICOBARS       2000  Kharif        \n",
       "3      3  Andaman and Nicobar Islands      NICOBARS       2000  Whole Year    \n",
       "4      4  Andaman and Nicobar Islands      NICOBARS       2000  Whole Year    \n",
       "\n",
       "                  Crop    Area  Production  \n",
       "0             Arecanut  1254.0      2000.0  \n",
       "1  Other Kharif pulses     2.0         1.0  \n",
       "2                 Rice   102.0       321.0  \n",
       "3               Banana   176.0       641.0  \n",
       "4            Cashewnut   720.0       165.0  "
      ]
     },
     "execution_count": 3,
     "metadata": {},
     "output_type": "execute_result"
    }
   ],
   "source": [
    "df = pd.read_csv(\"C:\\\\Users\\\\I355833\\\\Documents\\\\data_set\\\\crop_production\\\\crop_production.csv\")\n",
    "df.head()"
   ]
  },
  {
   "cell_type": "code",
   "execution_count": 4,
   "id": "981aa317",
   "metadata": {},
   "outputs": [
    {
     "data": {
      "text/plain": [
       "(246091, 8)"
      ]
     },
     "execution_count": 4,
     "metadata": {},
     "output_type": "execute_result"
    }
   ],
   "source": [
    "df.shape"
   ]
  },
  {
   "cell_type": "code",
   "execution_count": 5,
   "id": "9a393a75",
   "metadata": {},
   "outputs": [
    {
     "data": {
      "text/html": [
       "<div>\n",
       "<style scoped>\n",
       "    .dataframe tbody tr th:only-of-type {\n",
       "        vertical-align: middle;\n",
       "    }\n",
       "\n",
       "    .dataframe tbody tr th {\n",
       "        vertical-align: top;\n",
       "    }\n",
       "\n",
       "    .dataframe thead th {\n",
       "        text-align: right;\n",
       "    }\n",
       "</style>\n",
       "<table border=\"1\" class=\"dataframe\">\n",
       "  <thead>\n",
       "    <tr style=\"text-align: right;\">\n",
       "      <th></th>\n",
       "      <th>index</th>\n",
       "      <th>Crop_Year</th>\n",
       "      <th>Area</th>\n",
       "      <th>Production</th>\n",
       "    </tr>\n",
       "  </thead>\n",
       "  <tbody>\n",
       "    <tr>\n",
       "      <th>count</th>\n",
       "      <td>246091.000000</td>\n",
       "      <td>246091.000000</td>\n",
       "      <td>2.460910e+05</td>\n",
       "      <td>2.423610e+05</td>\n",
       "    </tr>\n",
       "    <tr>\n",
       "      <th>mean</th>\n",
       "      <td>123045.000000</td>\n",
       "      <td>2005.643018</td>\n",
       "      <td>1.200282e+04</td>\n",
       "      <td>5.825034e+05</td>\n",
       "    </tr>\n",
       "    <tr>\n",
       "      <th>std</th>\n",
       "      <td>71040.496885</td>\n",
       "      <td>4.952164</td>\n",
       "      <td>5.052340e+04</td>\n",
       "      <td>1.706581e+07</td>\n",
       "    </tr>\n",
       "    <tr>\n",
       "      <th>min</th>\n",
       "      <td>0.000000</td>\n",
       "      <td>1997.000000</td>\n",
       "      <td>4.000000e-02</td>\n",
       "      <td>0.000000e+00</td>\n",
       "    </tr>\n",
       "    <tr>\n",
       "      <th>25%</th>\n",
       "      <td>61522.500000</td>\n",
       "      <td>2002.000000</td>\n",
       "      <td>8.000000e+01</td>\n",
       "      <td>8.800000e+01</td>\n",
       "    </tr>\n",
       "    <tr>\n",
       "      <th>50%</th>\n",
       "      <td>123045.000000</td>\n",
       "      <td>2006.000000</td>\n",
       "      <td>5.820000e+02</td>\n",
       "      <td>7.290000e+02</td>\n",
       "    </tr>\n",
       "    <tr>\n",
       "      <th>75%</th>\n",
       "      <td>184567.500000</td>\n",
       "      <td>2010.000000</td>\n",
       "      <td>4.392000e+03</td>\n",
       "      <td>7.023000e+03</td>\n",
       "    </tr>\n",
       "    <tr>\n",
       "      <th>max</th>\n",
       "      <td>246090.000000</td>\n",
       "      <td>2015.000000</td>\n",
       "      <td>8.580100e+06</td>\n",
       "      <td>1.250800e+09</td>\n",
       "    </tr>\n",
       "  </tbody>\n",
       "</table>\n",
       "</div>"
      ],
      "text/plain": [
       "               index      Crop_Year          Area    Production\n",
       "count  246091.000000  246091.000000  2.460910e+05  2.423610e+05\n",
       "mean   123045.000000    2005.643018  1.200282e+04  5.825034e+05\n",
       "std     71040.496885       4.952164  5.052340e+04  1.706581e+07\n",
       "min         0.000000    1997.000000  4.000000e-02  0.000000e+00\n",
       "25%     61522.500000    2002.000000  8.000000e+01  8.800000e+01\n",
       "50%    123045.000000    2006.000000  5.820000e+02  7.290000e+02\n",
       "75%    184567.500000    2010.000000  4.392000e+03  7.023000e+03\n",
       "max    246090.000000    2015.000000  8.580100e+06  1.250800e+09"
      ]
     },
     "execution_count": 5,
     "metadata": {},
     "output_type": "execute_result"
    }
   ],
   "source": [
    "df.describe()"
   ]
  },
  {
   "cell_type": "code",
   "execution_count": 6,
   "id": "5f04357c",
   "metadata": {},
   "outputs": [],
   "source": [
    "df.columns=df.columns.str.lower()"
   ]
  },
  {
   "cell_type": "code",
   "execution_count": 7,
   "id": "46b6d2cd",
   "metadata": {},
   "outputs": [
    {
     "data": {
      "text/plain": [
       "index               0\n",
       "state_name          0\n",
       "district_name       0\n",
       "crop_year           0\n",
       "season              0\n",
       "crop                0\n",
       "area                0\n",
       "production       3730\n",
       "dtype: int64"
      ]
     },
     "execution_count": 7,
     "metadata": {},
     "output_type": "execute_result"
    }
   ],
   "source": [
    "df.isnull().sum()"
   ]
  },
  {
   "cell_type": "code",
   "execution_count": 8,
   "id": "105333ae",
   "metadata": {},
   "outputs": [
    {
     "data": {
      "text/plain": [
       "<Axes: >"
      ]
     },
     "execution_count": 8,
     "metadata": {},
     "output_type": "execute_result"
    },
    {
     "data": {
      "image/png": "[encoded data removed]",
      "text/plain": [
       "<Figure size 640x480 with 2 Axes>"
      ]
     },
     "metadata": {},
     "output_type": "display_data"
    }
   ],
   "source": [
    "sns.heatmap(df.isnull(),yticklabels=False)"
   ]
  },
  {
   "cell_type": "code",
   "execution_count": 9,
   "id": "3caf926b",
   "metadata": {},
   "outputs": [
    {
     "data": {
      "text/plain": [
       "0"
      ]
     },
     "execution_count": 9,
     "metadata": {},
     "output_type": "execute_result"
    }
   ],
   "source": [
    "df['production'] = df['production'].fillna(0)\n",
    "df['production'].isnull().sum()"
   ]
  },
  {
   "cell_type": "markdown",
   "id": "7328920b",
   "metadata": {},
   "source": [
    "## data cleanup"
   ]
  },
  {
   "cell_type": "code",
   "execution_count": 10,
   "id": "34293ddd",
   "metadata": {},
   "outputs": [],
   "source": [
    "df['season'] = df['season'].replace({'Kharif':'Spring','Rabi':'Monsoon','Whole Year':'Whole Year','Summer':'Summer','Winter':'Winter','Autumn':'Autumn'}) "
   ]
  },
  {
   "cell_type": "code",
   "execution_count": 11,
   "id": "5e931ed5",
   "metadata": {},
   "outputs": [],
   "source": [
    " Data_frm_districts=df['district_name'].value_counts().sort_values().reset_index(name='count')"
   ]
  },
  {
   "cell_type": "markdown",
   "id": "e03da42b",
   "metadata": {},
   "source": [
    "## Analysis on various cropfield enties state wise"
   ]
  },
  {
   "cell_type": "code",
   "execution_count": 12,
   "id": "9ff3ab4d",
   "metadata": {},
   "outputs": [
    {
     "data": {
      "text/plain": [
       "2953786189.17"
      ]
     },
     "execution_count": 12,
     "metadata": {},
     "output_type": "execute_result"
    }
   ],
   "source": [
    "state=df.groupby(['state_name'])['area'].sum().reset_index(name='area')\n",
    "state['area'].sum()"
   ]
  },
  {
   "cell_type": "markdown",
   "id": "78bd9c45",
   "metadata": {},
   "source": [
    "## Total Agricultural land in India is 2953786189.17 hectare"
   ]
  },
  {
   "cell_type": "code",
   "execution_count": 13,
   "id": "ea19548f",
   "metadata": {},
   "outputs": [
    {
     "data": {
      "text/html": [
       "<div>\n",
       "<style scoped>\n",
       "    .dataframe tbody tr th:only-of-type {\n",
       "        vertical-align: middle;\n",
       "    }\n",
       "\n",
       "    .dataframe tbody tr th {\n",
       "        vertical-align: top;\n",
       "    }\n",
       "\n",
       "    .dataframe thead th {\n",
       "        text-align: right;\n",
       "    }\n",
       "</style>\n",
       "<table border=\"1\" class=\"dataframe\">\n",
       "  <thead>\n",
       "    <tr style=\"text-align: right;\">\n",
       "      <th></th>\n",
       "      <th>state_name</th>\n",
       "      <th>area</th>\n",
       "    </tr>\n",
       "  </thead>\n",
       "  <tbody>\n",
       "    <tr>\n",
       "      <th>30</th>\n",
       "      <td>Uttar Pradesh</td>\n",
       "      <td>4.336316e+08</td>\n",
       "    </tr>\n",
       "    <tr>\n",
       "      <th>16</th>\n",
       "      <td>Madhya Pradesh</td>\n",
       "      <td>3.298131e+08</td>\n",
       "    </tr>\n",
       "    <tr>\n",
       "      <th>17</th>\n",
       "      <td>Maharashtra</td>\n",
       "      <td>3.222062e+08</td>\n",
       "    </tr>\n",
       "    <tr>\n",
       "      <th>25</th>\n",
       "      <td>Rajasthan</td>\n",
       "      <td>2.720249e+08</td>\n",
       "    </tr>\n",
       "    <tr>\n",
       "      <th>32</th>\n",
       "      <td>West Bengal</td>\n",
       "      <td>2.154052e+08</td>\n",
       "    </tr>\n",
       "    <tr>\n",
       "      <th>14</th>\n",
       "      <td>Karnataka</td>\n",
       "      <td>2.029101e+08</td>\n",
       "    </tr>\n",
       "    <tr>\n",
       "      <th>9</th>\n",
       "      <td>Gujarat</td>\n",
       "      <td>1.549440e+08</td>\n",
       "    </tr>\n",
       "    <tr>\n",
       "      <th>1</th>\n",
       "      <td>Andhra Pradesh</td>\n",
       "      <td>1.315458e+08</td>\n",
       "    </tr>\n",
       "    <tr>\n",
       "      <th>4</th>\n",
       "      <td>Bihar</td>\n",
       "      <td>1.282720e+08</td>\n",
       "    </tr>\n",
       "    <tr>\n",
       "      <th>24</th>\n",
       "      <td>Punjab</td>\n",
       "      <td>1.267256e+08</td>\n",
       "    </tr>\n",
       "  </tbody>\n",
       "</table>\n",
       "</div>"
      ],
      "text/plain": [
       "        state_name          area\n",
       "30   Uttar Pradesh  4.336316e+08\n",
       "16  Madhya Pradesh  3.298131e+08\n",
       "17     Maharashtra  3.222062e+08\n",
       "25       Rajasthan  2.720249e+08\n",
       "32     West Bengal  2.154052e+08\n",
       "14       Karnataka  2.029101e+08\n",
       "9          Gujarat  1.549440e+08\n",
       "1   Andhra Pradesh  1.315458e+08\n",
       "4            Bihar  1.282720e+08\n",
       "24          Punjab  1.267256e+08"
      ]
     },
     "execution_count": 13,
     "metadata": {},
     "output_type": "execute_result"
    }
   ],
   "source": [
    "#Top 10 state based on agricultual land\n",
    "state.sort_values(by='area',inplace=True,ascending=False)\n",
    "state.iloc[:10]"
   ]
  },
  {
   "cell_type": "code",
   "execution_count": 14,
   "id": "e58d736f",
   "metadata": {},
   "outputs": [
    {
     "ename": "AttributeError",
     "evalue": "This method only works with the ScalarFormatter",
     "output_type": "error",
     "traceback": [
      "\u001b[1;31m---------------------------------------------------------------------------\u001b[0m",
      "\u001b[1;31mAttributeError\u001b[0m                            Traceback (most recent call last)",
      "File \u001b[1;32mc:\\Users\\I355833\\AppData\\Local\\Programs\\Python\\Python310\\lib\\site-packages\\matplotlib\\axes\\_base.py:3262\u001b[0m, in \u001b[0;36m_AxesBase.ticklabel_format\u001b[1;34m(self, axis, style, scilimits, useOffset, useLocale, useMathText)\u001b[0m\n\u001b[0;32m   3261\u001b[0m \u001b[39mif\u001b[39;00m is_sci_style \u001b[39mis\u001b[39;00m \u001b[39mnot\u001b[39;00m \u001b[39mNone\u001b[39;00m:\n\u001b[1;32m-> 3262\u001b[0m     axis\u001b[39m.\u001b[39;49mmajor\u001b[39m.\u001b[39;49mformatter\u001b[39m.\u001b[39;49mset_scientific(is_sci_style)\n\u001b[0;32m   3263\u001b[0m \u001b[39mif\u001b[39;00m scilimits \u001b[39mis\u001b[39;00m \u001b[39mnot\u001b[39;00m \u001b[39mNone\u001b[39;00m:\n",
      "\u001b[1;31mAttributeError\u001b[0m: 'FuncFormatter' object has no attribute 'set_scientific'",
      "\nThe above exception was the direct cause of the following exception:\n",
      "\u001b[1;31mAttributeError\u001b[0m                            Traceback (most recent call last)",
      "Cell \u001b[1;32mIn[14], line 3\u001b[0m\n\u001b[0;32m      1\u001b[0m fig, ax\u001b[39m=\u001b[39mplt\u001b[39m.\u001b[39msubplots(figsize\u001b[39m=\u001b[39m(\u001b[39m20\u001b[39m,\u001b[39m30\u001b[39m))\n\u001b[0;32m      2\u001b[0m sns\u001b[39m.\u001b[39mbarplot(data\u001b[39m=\u001b[39mstate,y\u001b[39m=\u001b[39m\u001b[39m\"\u001b[39m\u001b[39mstate_name\u001b[39m\u001b[39m\"\u001b[39m,x\u001b[39m=\u001b[39m\u001b[39m\"\u001b[39m\u001b[39marea\u001b[39m\u001b[39m\"\u001b[39m)\u001b[39m.\u001b[39mset(title\u001b[39m=\u001b[39m\u001b[39m\"\u001b[39m\u001b[39mAgricultual land in India\u001b[39m\u001b[39m\"\u001b[39m)\n\u001b[1;32m----> 3\u001b[0m ax\u001b[39m.\u001b[39;49mticklabel_format(style\u001b[39m=\u001b[39;49m\u001b[39m'\u001b[39;49m\u001b[39mplain\u001b[39;49m\u001b[39m'\u001b[39;49m)\n",
      "File \u001b[1;32mc:\\Users\\I355833\\AppData\\Local\\Programs\\Python\\Python310\\lib\\site-packages\\matplotlib\\axes\\_base.py:3272\u001b[0m, in \u001b[0;36m_AxesBase.ticklabel_format\u001b[1;34m(self, axis, style, scilimits, useOffset, useLocale, useMathText)\u001b[0m\n\u001b[0;32m   3270\u001b[0m             axis\u001b[39m.\u001b[39mmajor\u001b[39m.\u001b[39mformatter\u001b[39m.\u001b[39mset_useMathText(useMathText)\n\u001b[0;32m   3271\u001b[0m \u001b[39mexcept\u001b[39;00m \u001b[39mAttributeError\u001b[39;00m \u001b[39mas\u001b[39;00m err:\n\u001b[1;32m-> 3272\u001b[0m     \u001b[39mraise\u001b[39;00m \u001b[39mAttributeError\u001b[39;00m(\n\u001b[0;32m   3273\u001b[0m         \u001b[39m\"\u001b[39m\u001b[39mThis method only works with the ScalarFormatter\u001b[39m\u001b[39m\"\u001b[39m) \u001b[39mfrom\u001b[39;00m \u001b[39merr\u001b[39;00m\n",
      "\u001b[1;31mAttributeError\u001b[0m: This method only works with the ScalarFormatter"
     ]
    },
    {
     "data": {
      "image/png": "[encoded data removed]",
      "text/plain": [
       "<Figure size 2000x3000 with 1 Axes>"
      ]
     },
     "metadata": {},
     "output_type": "display_data"
    }
   ],
   "source": [
    "fig, ax=plt.subplots(figsize=(20,30))\n",
    "sns.barplot(data=state,y=\"state_name\",x=\"area\").set(title=\"Agricultual land in India\")\n",
    "ax.ticklabel_format(style='plain')"
   ]
  },
  {
   "cell_type": "markdown",
   "id": "6b408ce6",
   "metadata": {},
   "source": [
    "## Top 10 Crop in india based on production"
   ]
  },
  {
   "cell_type": "code",
   "execution_count": null,
   "id": "61fdf808",
   "metadata": {},
   "outputs": [],
   "source": [
    "crops = df.groupby(['crop'])['production'].sum().reset_index(name='production')\n",
    "crops.sort_values(by='production',ascending=False,inplace=True)\n",
    "X = crops[:10]"
   ]
  },
  {
   "cell_type": "code",
   "execution_count": null,
   "id": "36615b4c",
   "metadata": {},
   "outputs": [],
   "source": [
    "fig, ax=plt.subplots(figsize=(10,8))\n",
    "plt.style.use('fivethirtyeight')\n",
    "ax = plt.bar(X['crop'],X['production'],width=0.5)\n",
    "plt.xticks(ticks=X['crop'],rotation='vertical')\n",
    "plt.tight_layout()\n",
    "plt.show()"
   ]
  },
  {
   "cell_type": "markdown",
   "id": "6beea2a0",
   "metadata": {},
   "source": [
    "## Top 10 crop based on agricultural area"
   ]
  },
  {
   "cell_type": "code",
   "execution_count": null,
   "id": "edc8d186",
   "metadata": {},
   "outputs": [],
   "source": [
    "crops = df.groupby(['crop'])['area'].sum().reset_index(name='area')\n",
    "crops.sort_values(by='area',ascending=False,inplace=True)\n",
    "Y = crops[:10]\n",
    "Y"
   ]
  },
  {
   "cell_type": "code",
   "execution_count": null,
   "id": "389f5262",
   "metadata": {},
   "outputs": [],
   "source": [
    "fig, ax=plt.subplots(figsize=(10,8))\n",
    "plt.style.use('fivethirtyeight')\n",
    "width =0.5\n",
    "ax= plt.bar(Y['crop'],Y['area'] ,width = width,)\n",
    "ax = plt.plot(Y['crop'],Y['area'],label=\"Agricultural area in metric ton\",color='#be4d25' )\n",
    "plt.title(\"Top 10 crops in India based on Agricultural Land\")\n",
    "plt.xticks(ticks=Y['crop'],rotation='vertical')\n",
    "plt.legend()\n",
    "plt.tight_layout()\n",
    "plt.show()"
   ]
  },
  {
   "cell_type": "markdown",
   "id": "e6699dd5",
   "metadata": {},
   "source": [
    "# Crop production data in india year wise"
   ]
  },
  {
   "cell_type": "code",
   "execution_count": null,
   "id": "96bacf49",
   "metadata": {},
   "outputs": [],
   "source": [
    "fil = (df['crop']=='Rice')\n",
    "sugar_fil = (df['crop']=='Sugarcane')\n",
    "gn_fil = (df['crop']=='Groundnut')\n",
    "cotton_fil = (df['crop']=='Cotton(lint)')\n",
    "wheat_fil = (df['crop']=='Wheat')\n",
    "\n",
    "Rice = df.loc[fil,['state_name','crop_year','production']]\n",
    "Sugar = df.loc[sugar_fil,['state_name','crop_year','production']]\n",
    "gorund_nut = df.loc[gn_fil,['state_name','crop_year','production']]\n",
    "cotton =df.loc[cotton_fil,['state_name','crop_year','production']]\n",
    "wheat =df.loc[wheat_fil,['state_name','crop_year','production']]"
   ]
  },
  {
   "cell_type": "code",
   "execution_count": null,
   "id": "2e11fe0e",
   "metadata": {},
   "outputs": [],
   "source": [
    "state_wise_R = Rice.groupby(['crop_year'])['production'].sum().reset_index(name='production')\n",
    "state_wise_S = Sugar.groupby(['crop_year'])['production'].sum().reset_index(name='production')\n",
    "state_wise_G = gorund_nut.groupby(['crop_year'])['production'].sum().reset_index(name='production')\n",
    "state_wise_C = cotton.groupby(['crop_year'])['production'].sum().reset_index(name='production')\n",
    "state_wise_W  = wheat.groupby(['crop_year'])['production'].sum().reset_index(name='production')"
   ]
  },
  {
   "cell_type": "code",
   "execution_count": null,
   "id": "57a2725f",
   "metadata": {},
   "outputs": [],
   "source": [
    "plt.style.use('ggplot')\n",
    "fig, ax=plt.subplots(figsize=(10,8))\n",
    "ax=plt.plot(state_wise_R['crop_year'],state_wise_R['production'],label =\"Rice Production in metric ton\")\n",
    "ax=plt.plot(state_wise_S['crop_year'],state_wise_S['production'],label=\"Sugarcane production in metic ton\")\n",
    "ax=plt.plot(state_wise_G['crop_year'],state_wise_G['production'],label=\"Ground Nut production in metic ton\")\n",
    "ax=plt.plot(state_wise_W['crop_year'],state_wise_W['production'],label=\"Wheat Nut production in metic ton\")\n",
    "ax=plt.plot(state_wise_C['crop_year'],state_wise_C['production'],label=\"Cotton Nut production in metic ton\")\n",
    "plt.legend()\n",
    "plt.xlabel(\"Crop_year\")\n",
    "plt.ylabel(\"Production in mertic ton X10^6\")\n",
    "plt.tight_layout()\n",
    "plt.show()"
   ]
  },
  {
   "cell_type": "markdown",
   "id": "dd1bf40c",
   "metadata": {},
   "source": [
    "### Crop production in india STATE WISE "
   ]
  },
  {
   "cell_type": "code",
   "execution_count": null,
   "id": "78b110f4",
   "metadata": {},
   "outputs": [],
   "source": [
    "crop_list = df['crop'].unique().tolist()\n",
    "crop_list"
   ]
  },
  {
   "cell_type": "code",
   "execution_count": null,
   "id": "18f1291e",
   "metadata": {},
   "outputs": [],
   "source": [
    "for z in crop_list:\n",
    "    fil = (df['crop']==z)\n",
    "    crop = df.loc[fil]\n",
    "    crop_state = crop.groupby(['state_name'])['area'].sum().reset_index(name='area')\n",
    "    label=crop_state['state_name'].tolist()\n",
    "    #plotting the production data of different crops \n",
    "    plt.style.use('ggplot')\n",
    "    fig, ax=plt.subplots(figsize=(20,10))\n",
    "    x = crop_state['state_name']\n",
    "    y = crop_state['area']/100000\n",
    "    size = crop_state['area']/1000\n",
    "    color = crop_state['area']/10000\n",
    "    text = crop_state['state_name']\n",
    "    title = \"Agricultural land of \" + z +\" in Indian state\"\n",
    "    ax = plt.scatter(x,y,s=size,cmap='magma',c= color,alpha=0.7,edgecolors='black')\n",
    "    plt.xticks(rotation='vertical')\n",
    "    plt.ylabel(\"area in mega hectare = hectare/100000\")\n",
    "    plt.xlabel(\"Indian states\")\n",
    "    plt.title(title)\n",
    "    plt.colorbar()\n",
    "    plt.tight_layout()\n",
    "    cursor(hover=True)\n",
    "    plt.show()"
   ]
  },
  {
   "cell_type": "markdown",
   "id": "14da1276",
   "metadata": {},
   "source": [
    "### Season wise Crop production"
   ]
  },
  {
   "cell_type": "code",
   "execution_count": null,
   "id": "ae085840",
   "metadata": {},
   "outputs": [],
   "source": [
    "filt = df.groupby(['season','crop','state_name'])['area'].sum().sort_values(ascending=False).reset_index(name='production')\n",
    "filt.head()"
   ]
  },
  {
   "cell_type": "code",
   "execution_count": null,
   "id": "6a64d354",
   "metadata": {
    "scrolled": true
   },
   "outputs": [],
   "source": [
    "fig = px.scatter(filt,x=\"crop\",y=\"state_name\",color=\"season\",size=\"production\")\n",
    "#fig.update_layout(scattermode=\"group\")\n",
    "fig.update_layout(autosize=True)\n",
    "fig.show()"
   ]
  },
  {
   "cell_type": "markdown",
   "id": "e630909e",
   "metadata": {},
   "source": [
    "### bases on above data we can check which season is famous for crops"
   ]
  },
  {
   "cell_type": "markdown",
   "id": "053c73ac",
   "metadata": {},
   "source": [
    "### Wheat and Rice is produced more in Rabi. Mustered in produced more during kharif in UP but it is produced more during winter in Odisha and Maharashtra\n"
   ]
  },
  {
   "cell_type": "markdown",
   "id": "1df6cf9d",
   "metadata": {},
   "source": [
    "### Most of the indian states follow Kharif season for major crops "
   ]
  },
  {
   "cell_type": "code",
   "execution_count": null,
   "id": "d2c6cd76",
   "metadata": {},
   "outputs": [],
   "source": []
  }
 ],
 "metadata": {
  "kernelspec": {
   "display_name": "Python 3",
   "language": "python",
   "name": "python3"
  },
  "language_info": {
   "codemirror_mode": {
    "name": "ipython",
    "version": 3
   },
   "file_extension": ".py",
   "mimetype": "text/x-python",
   "name": "python",
   "nbconvert_exporter": "python",
   "pygments_lexer": "ipython3",
   "version": "3.10.7"
  },
  "vscode": {
   "interpreter": {
    "hash": "5fc1ae1293454e4caf876d9d628a63f35f227fd1e4a093d60855de174f0c64d1"
   }
  }
 },
 "nbformat": 4,
 "nbformat_minor": 5
}
