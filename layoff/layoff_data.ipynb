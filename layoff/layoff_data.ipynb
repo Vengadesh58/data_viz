{
 "cells": [
  {
   "cell_type": "code",
   "execution_count": 2,
   "metadata": {},
   "outputs": [],
   "source": [
    "import pandas as pd\n",
    "import numpy as np\n",
    "import matplotlib.pyplot as plt\n",
    "import seaborn as sns\n",
    "import plotly.express as px\n",
    "%matplotlib inline\n",
    "import warnings\n",
    "warnings.filterwarnings(\"ignore\")"
   ]
  },
  {
   "attachments": {},
   "cell_type": "markdown",
   "metadata": {},
   "source": [
    "import data into the data frame"
   ]
  },
  {
   "cell_type": "code",
   "execution_count": 3,
   "metadata": {},
   "outputs": [
    {
     "data": {
      "text/html": [
       "<div>\n",
       "<style scoped>\n",
       "    .dataframe tbody tr th:only-of-type {\n",
       "        vertical-align: middle;\n",
       "    }\n",
       "\n",
       "    .dataframe tbody tr th {\n",
       "        vertical-align: top;\n",
       "    }\n",
       "\n",
       "    .dataframe thead th {\n",
       "        text-align: right;\n",
       "    }\n",
       "</style>\n",
       "<table border=\"1\" class=\"dataframe\">\n",
       "  <thead>\n",
       "    <tr style=\"text-align: right;\">\n",
       "      <th></th>\n",
       "      <th>company</th>\n",
       "      <th>total_layoffs</th>\n",
       "      <th>impacted_workforce_percentage</th>\n",
       "      <th>reported_date</th>\n",
       "      <th>industry</th>\n",
       "      <th>headquarter_location</th>\n",
       "      <th>sources</th>\n",
       "      <th>status</th>\n",
       "      <th>additional_notes</th>\n",
       "    </tr>\n",
       "  </thead>\n",
       "  <tbody>\n",
       "    <tr>\n",
       "      <th>0</th>\n",
       "      <td>C2FO</td>\n",
       "      <td>20</td>\n",
       "      <td>2</td>\n",
       "      <td>12/9/2022</td>\n",
       "      <td>Fintech, payments</td>\n",
       "      <td>Leawood, KS</td>\n",
       "      <td>Kansas City Business Journal</td>\n",
       "      <td>Private</td>\n",
       "      <td>NaN</td>\n",
       "    </tr>\n",
       "    <tr>\n",
       "      <th>1</th>\n",
       "      <td>VideoAmp</td>\n",
       "      <td>Unclear</td>\n",
       "      <td>2</td>\n",
       "      <td>9/19/2022</td>\n",
       "      <td>Advertising platforms</td>\n",
       "      <td>Los Angeles</td>\n",
       "      <td>Company memo</td>\n",
       "      <td>Private</td>\n",
       "      <td>NaN</td>\n",
       "    </tr>\n",
       "    <tr>\n",
       "      <th>2</th>\n",
       "      <td>Amperity</td>\n",
       "      <td>13</td>\n",
       "      <td>3</td>\n",
       "      <td>8/20/2022</td>\n",
       "      <td>Saas, analytics</td>\n",
       "      <td>Seattle</td>\n",
       "      <td>Geekwire</td>\n",
       "      <td>Private</td>\n",
       "      <td>NaN</td>\n",
       "    </tr>\n",
       "    <tr>\n",
       "      <th>3</th>\n",
       "      <td>Addepar</td>\n",
       "      <td>20</td>\n",
       "      <td>3</td>\n",
       "      <td>1/18/2023</td>\n",
       "      <td>fintech, data analytics</td>\n",
       "      <td>Mountain View, CA</td>\n",
       "      <td>Fortune</td>\n",
       "      <td>Private</td>\n",
       "      <td>NaN</td>\n",
       "    </tr>\n",
       "    <tr>\n",
       "      <th>4</th>\n",
       "      <td>Thirty Madison</td>\n",
       "      <td>24</td>\n",
       "      <td>3</td>\n",
       "      <td>5/13/2022</td>\n",
       "      <td>Health Care</td>\n",
       "      <td>New York</td>\n",
       "      <td>Axios</td>\n",
       "      <td>Private</td>\n",
       "      <td>Per Axios, 22 of the employees laid off were f...</td>\n",
       "    </tr>\n",
       "  </tbody>\n",
       "</table>\n",
       "</div>"
      ],
      "text/plain": [
       "          company total_layoffs impacted_workforce_percentage reported_date  \\\n",
       "0            C2FO            20                             2     12/9/2022   \n",
       "1        VideoAmp       Unclear                             2     9/19/2022   \n",
       "2        Amperity            13                             3     8/20/2022   \n",
       "3         Addepar            20                             3     1/18/2023   \n",
       "4  Thirty Madison            24                             3     5/13/2022   \n",
       "\n",
       "                  industry headquarter_location                       sources  \\\n",
       "0        Fintech, payments          Leawood, KS  Kansas City Business Journal   \n",
       "1    Advertising platforms          Los Angeles                  Company memo   \n",
       "2          Saas, analytics              Seattle                      Geekwire   \n",
       "3  fintech, data analytics    Mountain View, CA                       Fortune   \n",
       "4              Health Care             New York                         Axios   \n",
       "\n",
       "    status                                   additional_notes  \n",
       "0  Private                                                NaN  \n",
       "1  Private                                                NaN  \n",
       "2  Private                                                NaN  \n",
       "3  Private                                                NaN  \n",
       "4  Private  Per Axios, 22 of the employees laid off were f...  "
      ]
     },
     "execution_count": 3,
     "metadata": {},
     "output_type": "execute_result"
    }
   ],
   "source": [
    "df = pd.read_csv(\"C:\\\\Users\\\\I355833\\\\Documents\\\\data_set\\\\layoff\\\\tech_layoffs.csv\")\n",
    "df.head()"
   ]
  },
  {
   "cell_type": "code",
   "execution_count": 4,
   "metadata": {},
   "outputs": [
    {
     "data": {
      "text/plain": [
       "Index(['company', 'total_layoffs', 'impacted_workforce_percentage',\n",
       "       'reported_date', 'industry', 'headquarter_location', 'sources',\n",
       "       'status', 'additional_notes'],\n",
       "      dtype='object')"
      ]
     },
     "execution_count": 4,
     "metadata": {},
     "output_type": "execute_result"
    }
   ],
   "source": [
    "df.columns"
   ]
  },
  {
   "cell_type": "code",
   "execution_count": 5,
   "metadata": {},
   "outputs": [
    {
     "data": {
      "text/plain": [
       "(489, 9)"
      ]
     },
     "execution_count": 5,
     "metadata": {},
     "output_type": "execute_result"
    }
   ],
   "source": [
    "df.shape"
   ]
  },
  {
   "cell_type": "code",
   "execution_count": 6,
   "metadata": {},
   "outputs": [
    {
     "name": "stdout",
     "output_type": "stream",
     "text": [
      "<class 'pandas.core.frame.DataFrame'>\n",
      "RangeIndex: 489 entries, 0 to 488\n",
      "Data columns (total 9 columns):\n",
      " #   Column                         Non-Null Count  Dtype \n",
      "---  ------                         --------------  ----- \n",
      " 0   company                        489 non-null    object\n",
      " 1   total_layoffs                  489 non-null    object\n",
      " 2   impacted_workforce_percentage  489 non-null    object\n",
      " 3   reported_date                  489 non-null    object\n",
      " 4   industry                       489 non-null    object\n",
      " 5   headquarter_location           489 non-null    object\n",
      " 6   sources                        489 non-null    object\n",
      " 7   status                         489 non-null    object\n",
      " 8   additional_notes               22 non-null     object\n",
      "dtypes: object(9)\n",
      "memory usage: 34.5+ KB\n"
     ]
    }
   ],
   "source": [
    "df.info()"
   ]
  },
  {
   "attachments": {},
   "cell_type": "markdown",
   "metadata": {},
   "source": [
    "Cleanup the data"
   ]
  },
  {
   "cell_type": "code",
   "execution_count": 7,
   "metadata": {},
   "outputs": [
    {
     "data": {
      "text/plain": [
       "company                            0\n",
       "total_layoffs                      0\n",
       "impacted_workforce_percentage      0\n",
       "reported_date                      0\n",
       "industry                           0\n",
       "headquarter_location               0\n",
       "sources                            0\n",
       "status                             0\n",
       "additional_notes                 467\n",
       "dtype: int64"
      ]
     },
     "execution_count": 7,
     "metadata": {},
     "output_type": "execute_result"
    }
   ],
   "source": [
    "df.isnull().sum()"
   ]
  },
  {
   "cell_type": "code",
   "execution_count": 8,
   "metadata": {},
   "outputs": [],
   "source": [
    "df[\"additional_notes\"]=df['additional_notes'].fillna(\"Not available\")"
   ]
  },
  {
   "cell_type": "code",
   "execution_count": 9,
   "metadata": {},
   "outputs": [
    {
     "data": {
      "text/plain": [
       "company                          0\n",
       "total_layoffs                    0\n",
       "impacted_workforce_percentage    0\n",
       "reported_date                    0\n",
       "industry                         0\n",
       "headquarter_location             0\n",
       "sources                          0\n",
       "status                           0\n",
       "additional_notes                 0\n",
       "dtype: int64"
      ]
     },
     "execution_count": 9,
     "metadata": {},
     "output_type": "execute_result"
    }
   ],
   "source": [
    "df.isnull().sum()"
   ]
  },
  {
   "cell_type": "code",
   "execution_count": 10,
   "metadata": {},
   "outputs": [
    {
     "data": {
      "text/html": [
       "<div>\n",
       "<style scoped>\n",
       "    .dataframe tbody tr th:only-of-type {\n",
       "        vertical-align: middle;\n",
       "    }\n",
       "\n",
       "    .dataframe tbody tr th {\n",
       "        vertical-align: top;\n",
       "    }\n",
       "\n",
       "    .dataframe thead th {\n",
       "        text-align: right;\n",
       "    }\n",
       "</style>\n",
       "<table border=\"1\" class=\"dataframe\">\n",
       "  <thead>\n",
       "    <tr style=\"text-align: right;\">\n",
       "      <th></th>\n",
       "      <th>company</th>\n",
       "      <th>headquarter_location</th>\n",
       "      <th>status</th>\n",
       "      <th>total_layoffs</th>\n",
       "    </tr>\n",
       "  </thead>\n",
       "  <tbody>\n",
       "    <tr>\n",
       "      <th>0</th>\n",
       "      <td>100 Thieves</td>\n",
       "      <td>Los Angeles</td>\n",
       "      <td>Private</td>\n",
       "      <td>12</td>\n",
       "    </tr>\n",
       "    <tr>\n",
       "      <th>1</th>\n",
       "      <td>2U</td>\n",
       "      <td>Hyattsville, MD</td>\n",
       "      <td>Public</td>\n",
       "      <td>Unclear</td>\n",
       "    </tr>\n",
       "    <tr>\n",
       "      <th>2</th>\n",
       "      <td>6sense</td>\n",
       "      <td>San Francisco</td>\n",
       "      <td>Private</td>\n",
       "      <td>150</td>\n",
       "    </tr>\n",
       "    <tr>\n",
       "      <th>3</th>\n",
       "      <td>80 Acres Farms</td>\n",
       "      <td>Hamilton, OH</td>\n",
       "      <td>Private</td>\n",
       "      <td>Unclear</td>\n",
       "    </tr>\n",
       "    <tr>\n",
       "      <th>4</th>\n",
       "      <td>8x8</td>\n",
       "      <td>San Jose, CA</td>\n",
       "      <td>Public</td>\n",
       "      <td>155</td>\n",
       "    </tr>\n",
       "  </tbody>\n",
       "</table>\n",
       "</div>"
      ],
      "text/plain": [
       "          company headquarter_location   status total_layoffs\n",
       "0     100 Thieves          Los Angeles  Private            12\n",
       "1              2U      Hyattsville, MD   Public       Unclear\n",
       "2          6sense        San Francisco  Private           150\n",
       "3  80 Acres Farms         Hamilton, OH  Private       Unclear\n",
       "4             8x8         San Jose, CA   Public           155"
      ]
     },
     "execution_count": 10,
     "metadata": {},
     "output_type": "execute_result"
    }
   ],
   "source": [
    "company = df.groupby(['company','headquarter_location','status'])['total_layoffs'].sum().reset_index()\n",
    "company.head()"
   ]
  },
  {
   "cell_type": "code",
   "execution_count": 11,
   "metadata": {},
   "outputs": [],
   "source": [
    "company['total_layoffs'] = company['total_layoffs'].replace({\"Unclear\":0})"
   ]
  },
  {
   "cell_type": "code",
   "execution_count": 12,
   "metadata": {},
   "outputs": [
    {
     "data": {
      "application/vnd.plotly.v1+json": {
       "config": {
        "plotlyServerURL": "https://plot.ly"
       },
       "data": [
        {
         "hovertemplate": "status=Private<br>headquarter_location=%{x}<br>total_layoffs=%{y}<extra></extra>",
         "legendgroup": "Private",
         "marker": {
          "color": "#636efa",
          "symbol": "circle"
         },
         "mode": "markers",
         "name": "Private",
         "orientation": "v",
         "showlegend": true,
         "type": "scatter",
         "x": [
          "Los Angeles",
          "San Francisco",
          "Hamilton, OH",
          "Seattle",
          "Mountain View",
          "Mountain View, CA",
          "Bellevue, WA",
          "Durham, North Carolina",
          "Santa Clara, CA",
          "San Francisco",
          "Los Angeles",
          "San Francisco",
          "San Francisco",
          "Redwood City, CA",
          "Chicago",
          "Seattle",
          "San Francisco",
          "San Francisco",
          "Burlington, MA",
          "Mountain View",
          "Pittsburgh",
          "New York",
          "San Francisco",
          "San Francisco",
          "Salt Lake City",
          "Cincinnati",
          "San Francisco",
          "Boston",
          "Detroit",
          "Santa Monica, CA",
          "Boulder",
          "Los Angeles",
          "St. Louis",
          "San Francisco",
          "New York",
          "New York",
          "Palo Alto, CA",
          "New York",
          "Jersey City",
          "San Francisco",
          "San Francisco",
          "San Francisco",
          "Distributed",
          "Grand Rapids, MI",
          "Los Angeles",
          "Portland",
          "San Francisco",
          "San Francisco",
          "Palo Alto, CA",
          "Chicago",
          "New York",
          "New York",
          "Leawood, KS",
          "Emeryville, California",
          "San Francisco",
          "Chicago",
          "New York",
          "Torrance, California",
          "New York",
          "New York",
          "San Francisco",
          "San Francisco",
          "Los Angeles",
          "Austin, TX",
          "San Francisco",
          "New York",
          "Hoboken, New Jersey",
          "San Francisco",
          "San Francisco",
          "San Francisco",
          "New York",
          "San Francisco",
          "San Francisco",
          "Playa Visa, California",
          "San Francisco",
          "New York",
          "Fort Lauderdale, FL",
          "San Francisco",
          "Truckee, CA",
          "St. Louis",
          "San Diego",
          "San Francisco",
          "New York",
          "Bismarck, ND",
          "Minneapolis",
          "Mumbai, India",
          "Massachusetts",
          "New York",
          "Los Angeles",
          "New York",
          "New York",
          "Seattle",
          "Cincinnati",
          "New City, NY",
          "Los Angeles",
          "San Francisco",
          "Palo Alto",
          "Boston",
          "New York City",
          "Boston",
          "Walnut Creek, CA",
          "New York",
          "Pleasanton, CA",
          "Stamford, CT",
          "San Franicsco",
          "San Francisco",
          "Seattle",
          "Bend, Oregon",
          "San Francisco",
          "San Mateo, CA",
          "San Francisco",
          "Boston",
          "San Francisco",
          "Los Angeles",
          "New York",
          "San Francisco",
          "Newton, Massachusetts",
          "Seattle",
          "San Francisco",
          "San Francisco",
          "Nebraska City, NE",
          "New York",
          "San Francisco",
          "San Francisco",
          "Pittsburgh",
          "Columbus",
          "San Francisco",
          "San Francisco",
          "Palo Alto, CA",
          "Dever",
          "Seattle",
          "New York",
          "San Francisco",
          "Chicago",
          "The Bronx, NY",
          "Atlanta",
          "San Francisco",
          "Santa Clara, CA",
          "San Francisco",
          "New York",
          "New York",
          "Dallas",
          "New York",
          "Reston, VA",
          "Redwood City, CA",
          "Philadelphia",
          "Atlanta",
          "San Francisco",
          "New York",
          "Los Angeles",
          "Healdsburg, CA",
          "Los Angeles",
          "Miami, FL",
          "Chicago",
          "San Francisco",
          "Greenville, SC",
          "Austin",
          "Austin, TX",
          "South Jordan, Utah",
          "London",
          "San Francisco",
          "Boston",
          "New York",
          "McLean, Virginia",
          "San Francisco",
          "Seattle",
          "San Francisco",
          "New York",
          "San Francisco",
          "Seattle",
          "San Francisco",
          "San Franicsco",
          "Mountain View, CA",
          "San Francisco",
          "New York",
          "Culver City",
          "Boston",
          "New York",
          "Louisville, CO",
          "San Francisco",
          "San Francisco",
          "San Diego",
          "San Francisco",
          "Seattle",
          "Austin",
          "San Francisco",
          "Mountain View",
          "Stockholm",
          "New York",
          "San Francisco",
          "San Francisco",
          "San Jose",
          "Grand Rapids, MI",
          "San Francisco",
          "New York",
          "Houston",
          "New York",
          "Dover, DE",
          "San Francisco",
          "Bend, OR",
          "New York",
          "New York",
          "Santa Monica, CA",
          "San Jose",
          "San Francisco",
          "San Francisco",
          "San Francisco",
          "New York",
          "Chicago",
          "San Francisco",
          "Saratoga, CA",
          "Waterford, MI",
          "New York",
          "San Francisco",
          "San Francisco",
          "Los Angeles",
          "San Francisco",
          "New York",
          "New York",
          "Bay Area, CA",
          "Palo Alto",
          "San Francisco",
          "Denver",
          "Phoenix",
          "San Francisco",
          "New York",
          "New York",
          "Boston",
          "Mountain View",
          "San Francisco",
          "Lehi, UT",
          "Bellevue, WA",
          "Columbus",
          "San Francisco",
          "Boston",
          "Atlanta",
          "London",
          "New York",
          "San Francisco",
          "New York",
          "Seattle",
          "San Francisco",
          "Boulder",
          "Englewood Cliffs, NJ",
          "Charlotte, NC",
          "San Francisco",
          "Miami",
          "Nashville, TN",
          "San Francisco",
          "San Francisco",
          "New York",
          "San Francisco",
          "Miami",
          "Napa, CA",
          "San Francisco",
          "New York",
          "Williston, VT",
          "San Francisco",
          "Salt Lake City",
          "Chicago",
          "San Francisco",
          "Seattle",
          "Seattle",
          "San Francisco",
          "Austin, TX",
          "Seattle",
          "San Mateo, CA",
          "Los Angeles",
          "New York",
          "Miami",
          "San Francisco",
          "Chicago",
          "San Francisco",
          "Los Angeles",
          "San Francisco",
          "New York",
          "New York",
          "Boca Raton, FL",
          "Lehi, UT",
          "Los Angeles",
          "New York",
          "San Francisco",
          "Boston",
          "San Francisco",
          "San Francisco",
          "New York",
          "San Francisco",
          "Seattle",
          "Chicago",
          "San Francisco",
          "San Francisco",
          "New York",
          "Boston",
          "Incline Village, NV",
          "Reno",
          "Denver",
          "New York",
          "San Francisco",
          "Lincoln, NE",
          "San Francisco",
          "New York",
          "Detroit",
          "Atlanta",
          "Washington, DC",
          "Boulder",
          "San Francisco",
          "San Francisco",
          "Los Angeles",
          "San Francisco",
          "Menlo Park",
          "San Francisco",
          "New York",
          "Newark, DE",
          "San Francisco",
          "Boulder",
          "San Francisco",
          "Oakland",
          "San Francisco",
          "Atlanta",
          "Chicago",
          "New York",
          "Austin, TX",
          "Greater New York area",
          "New York",
          "Walpole, MA",
          "Redwood City, CA",
          "Los Angeles",
          "San Mateo",
          "Stamford",
          "San Francisco",
          "San Francisco",
          "Portland",
          "Hayward, CA",
          "Hayward, California",
          "Sunnyvale, CA",
          "Mountain View, CA",
          "Palo Alto, CA",
          "San Carlos, CA",
          "San Francisco",
          "San Mateo",
          "New York",
          "San Francisco",
          "San Francisco",
          "Los Angeles",
          "Los Angeles",
          "New York",
          "Washington, DC",
          "Boston",
          "San Francisco",
          "Palo Alto, CA",
          "Irvine, CA",
          "Cambridge, MA",
          "New York",
          "San Carlos, CA",
          "Austin, TX",
          "Indianapolis",
          "San Francisco",
          "New York",
          "Bellevue, WA",
          "San Francisco",
          "San Francisco",
          "Long Beach",
          "Milwaukee",
          "Santa Barbara, CA",
          "Santa Clara, CA"
         ],
         "xaxis": "x",
         "y": [
          "12",
          "150",
          0,
          0,
          "12",
          "20",
          "32",
          "40",
          0,
          "254",
          "20",
          0,
          0,
          0,
          0,
          "13",
          0,
          0,
          "65",
          "13",
          "150Unclear",
          "20",
          "25",
          "23",
          0,
          "76",
          "32",
          "70",
          0,
          0,
          0,
          "224",
          "35",
          "16",
          0,
          "5000",
          0,
          "220",
          0,
          "88",
          0,
          "250",
          "140",
          "226",
          0,
          "40",
          "136",
          "30",
          0,
          0,
          "1000",
          0,
          "20",
          0,
          "90",
          "167",
          "33",
          "58",
          "37",
          0,
          "450",
          "82",
          0,
          0,
          "200",
          0,
          "150",
          0,
          0,
          "142",
          "58",
          "156",
          "50",
          "140",
          0,
          "33",
          0,
          "15",
          "378",
          0,
          0,
          0,
          "19",
          0,
          0,
          "100",
          "97",
          0,
          "40",
          "100",
          0,
          "90",
          "30",
          0,
          "109",
          "150",
          "30",
          "100",
          0,
          "UnclearUnclear",
          0,
          0,
          0,
          "10",
          "40",
          0,
          0,
          "56",
          "25",
          0,
          0,
          0,
          "30",
          "30",
          "30",
          "25",
          "40",
          0,
          "40",
          "30",
          "59",
          "120",
          "84",
          "400",
          0,
          "16",
          0,
          "640",
          "24",
          0,
          "150",
          "20",
          0,
          "26",
          "40",
          0,
          "150",
          0,
          "100",
          "68Unclear",
          "60",
          0,
          "104",
          0,
          "94",
          "2300",
          "104",
          0,
          0,
          "158",
          0,
          "50",
          "149",
          "80",
          0,
          "113",
          "120",
          0,
          "162",
          "370",
          "45",
          "70",
          "100",
          0,
          "25",
          "40",
          "50",
          0,
          "120",
          0,
          0,
          "124",
          "40",
          "50",
          "50",
          "200",
          0,
          0,
          "100",
          0,
          "35",
          0,
          0,
          0,
          "120",
          0,
          0,
          "750",
          0,
          "78",
          "1100",
          "200",
          0,
          0,
          0,
          0,
          "27",
          "76",
          "57",
          0,
          0,
          "30",
          "44",
          "50",
          "125",
          "156",
          0,
          0,
          0,
          0,
          0,
          0,
          0,
          "237",
          0,
          0,
          0,
          "30",
          "16",
          "110",
          "150",
          0,
          0,
          0,
          "85",
          0,
          "1095",
          "170",
          "310",
          "80",
          "20",
          0,
          "450",
          "7273",
          0,
          "950",
          0,
          0,
          "14",
          "180",
          0,
          "74",
          0,
          "170",
          0,
          "100",
          0,
          "60",
          "80",
          0,
          "30",
          0,
          "90",
          0,
          "260",
          "170",
          "47",
          "43",
          "100",
          "63",
          "60",
          "80",
          "163",
          "59",
          0,
          "11",
          "140",
          "84",
          "67",
          "750",
          0,
          "150",
          "100",
          "50",
          "85",
          "57",
          0,
          0,
          0,
          0,
          "30",
          "27",
          "90",
          0,
          0,
          "32",
          "100",
          "43",
          0,
          0,
          0,
          "100",
          "220",
          "104",
          "173",
          0,
          "7",
          "78",
          0,
          0,
          "32",
          "120",
          "59",
          0,
          "20",
          "1050",
          0,
          0,
          "13",
          "101",
          "UnclearUnclear",
          "24",
          0,
          "23",
          "21",
          0,
          0,
          "54",
          0,
          "54",
          0,
          "90",
          0,
          "24",
          0,
          0,
          0,
          "123",
          "44",
          "262",
          "23",
          0,
          0,
          0,
          "130",
          "55",
          "76",
          "60",
          "75",
          "100",
          "80",
          "250",
          "40",
          0,
          "111",
          "25",
          "169",
          0,
          "85",
          0,
          "175",
          "40",
          "130",
          0,
          0,
          "5",
          0,
          "70",
          0,
          "64",
          "45",
          0,
          0,
          0,
          0
         ],
         "yaxis": "y"
        },
        {
         "hovertemplate": "status=Public<br>headquarter_location=%{x}<br>total_layoffs=%{y}<extra></extra>",
         "legendgroup": "Public",
         "marker": {
          "color": "#EF553B",
          "symbol": "circle"
         },
         "mode": "markers",
         "name": "Public",
         "orientation": "v",
         "showlegend": true,
         "type": "scatter",
         "x": [
          "Hyattsville, MD",
          "San Jose, CA",
          "San Jose, CA",
          "San Francisco",
          "Boston",
          "Mountain View, CA",
          "Seattle",
          "Chesterfield, MO",
          "Palo Alto",
          "San Francisco",
          "Alameda, CA",
          "Alpharetta, GA",
          "Santa Monica, CA",
          "Manhattan Beach, CA",
          "Columbia, MD",
          "Austin, TX",
          "Santa Monica",
          "Los Angeles",
          "San Francisco",
          "New York",
          "New York",
          "Tempe",
          "San Jose, CA",
          "San Francisco",
          "New York",
          "Austin",
          "Mountain View, CA",
          "San Diego",
          "Framingham, MA",
          "Burlington, Massachusetts",
          "San Francisco",
          "San Francsico",
          "San Francisco",
          "Tempe, AZ",
          "San Francisco",
          "Palo Alto",
          "Seattle",
          "San Jose, CA",
          "San Mateo, CA",
          "Chicago",
          "Los Angeles",
          "Chicago",
          "San Francisco",
          "Redwood City, CA",
          "New York",
          "San Francisco",
          "San Francisco",
          "New York",
          "New York",
          "New York, NY",
          "Seattle",
          "San Francisco",
          "San Francisco",
          "Bellevue, WA",
          "New York",
          "San Francisco",
          "Menlo Park, CA",
          "San Francisco",
          "Seattle",
          "Los Gatos",
          "San Jose",
          "San Francisco",
          "San Francisco",
          "Austin",
          "New York",
          "New York",
          "San Jose",
          "Boston",
          "New York",
          "Tel Aviv",
          "Draper, UT",
          "San Diego",
          "Provo, UT",
          "Sunnyvale, CA",
          "Seattle",
          "New York",
          "Belmont, CA",
          "Irvine, CA",
          "Menlo Park",
          "Los Gatos, CA",
          "Columbus",
          "San Francisco",
          "Stamford, CT",
          "Minneapolis",
          "Ottawa, Canada",
          "New York",
          "San Francisco",
          "Venice, CA",
          "San Francisco",
          "Santa Clara, CA",
          "Stockholm, Sweden",
          "Boston",
          "San Francisco",
          "Washington, DC",
          "New York",
          "Newton, MA",
          "Purchase, NY",
          "Oakland, CA",
          "San Diego",
          "San Francisco",
          "San Francisco",
          "New York",
          "San Francisco",
          "New York",
          "New York",
          "San Francisco",
          "New York",
          "San Francisco",
          "New York City",
          "Boston",
          "New York",
          "San Francisco",
          "Seattle",
          "Seattle",
          "San Mateo, CA",
          "Bedford, MA",
          "Wilmington, NC"
         ],
         "xaxis": "x",
         "y": [
          0,
          "155",
          "100",
          0,
          "46",
          "12000",
          "18000",
          "700",
          "300",
          "180",
          0,
          0,
          "70",
          "240",
          0,
          0,
          "138",
          "95",
          "200Unclear",
          0,
          "180",
          "4000",
          "4100",
          "2110",
          0,
          0,
          "32",
          "558",
          "55",
          0,
          0,
          "825",
          "1250",
          "95",
          0,
          "400",
          "100",
          "100",
          "90",
          "800",
          "140",
          "500",
          "69",
          "450",
          "120",
          "1000",
          "400",
          "75",
          "30",
          "115",
          "56",
          "225",
          0,
          0,
          0,
          "760",
          "11000",
          "60",
          "10000",
          "480",
          "270",
          "24",
          "550",
          0,
          "38",
          0,
          "83",
          "25",
          "4084",
          "250",
          "400",
          "153",
          0,
          "72",
          "1332",
          0,
          "80",
          "840",
          "1013",
          "200",
          "467",
          "9090",
          "750",
          0,
          "1000",
          "120",
          "70Unclear",
          "1280",
          0,
          0,
          "588",
          0,
          0,
          0,
          "100",
          "60",
          "300",
          0,
          "350",
          "800",
          "3740",
          "451",
          "509",
          "110",
          0,
          0,
          "647",
          "43",
          "63",
          "870",
          "300",
          "350",
          "300",
          "99",
          0,
          "140",
          "100"
         ],
         "yaxis": "y"
        }
       ],
       "layout": {
        "legend": {
         "title": {
          "text": "status"
         },
         "tracegroupgap": 0
        },
        "margin": {
         "t": 60
        },
        "template": {
         "data": {
          "bar": [
           {
            "error_x": {
             "color": "#2a3f5f"
            },
            "error_y": {
             "color": "#2a3f5f"
            },
            "marker": {
             "line": {
              "color": "#E5ECF6",
              "width": 0.5
             },
             "pattern": {
              "fillmode": "overlay",
              "size": 10,
              "solidity": 0.2
             }
            },
            "type": "bar"
           }
          ],
          "barpolar": [
           {
            "marker": {
             "line": {
              "color": "#E5ECF6",
              "width": 0.5
             },
             "pattern": {
              "fillmode": "overlay",
              "size": 10,
              "solidity": 0.2
             }
            },
            "type": "barpolar"
           }
          ],
          "carpet": [
           {
            "aaxis": {
             "endlinecolor": "#2a3f5f",
             "gridcolor": "white",
             "linecolor": "white",
             "minorgridcolor": "white",
             "startlinecolor": "#2a3f5f"
            },
            "baxis": {
             "endlinecolor": "#2a3f5f",
             "gridcolor": "white",
             "linecolor": "white",
             "minorgridcolor": "white",
             "startlinecolor": "#2a3f5f"
            },
            "type": "carpet"
           }
          ],
          "choropleth": [
           {
            "colorbar": {
             "outlinewidth": 0,
             "ticks": ""
            },
            "type": "choropleth"
           }
          ],
          "contour": [
           {
            "colorbar": {
             "outlinewidth": 0,
             "ticks": ""
            },
            "colorscale": [
             [
              0,
              "#0d0887"
             ],
             [
              0.1111111111111111,
              "#46039f"
             ],
             [
              0.2222222222222222,
              "#7201a8"
             ],
             [
              0.3333333333333333,
              "#9c179e"
             ],
             [
              0.4444444444444444,
              "#bd3786"
             ],
             [
              0.5555555555555556,
              "#d8576b"
             ],
             [
              0.6666666666666666,
              "#ed7953"
             ],
             [
              0.7777777777777778,
              "#fb9f3a"
             ],
             [
              0.8888888888888888,
              "#fdca26"
             ],
             [
              1,
              "#f0f921"
             ]
            ],
            "type": "contour"
           }
          ],
          "contourcarpet": [
           {
            "colorbar": {
             "outlinewidth": 0,
             "ticks": ""
            },
            "type": "contourcarpet"
           }
          ],
          "heatmap": [
           {
            "colorbar": {
             "outlinewidth": 0,
             "ticks": ""
            },
            "colorscale": [
             [
              0,
              "#0d0887"
             ],
             [
              0.1111111111111111,
              "#46039f"
             ],
             [
              0.2222222222222222,
              "#7201a8"
             ],
             [
              0.3333333333333333,
              "#9c179e"
             ],
             [
              0.4444444444444444,
              "#bd3786"
             ],
             [
              0.5555555555555556,
              "#d8576b"
             ],
             [
              0.6666666666666666,
              "#ed7953"
             ],
             [
              0.7777777777777778,
              "#fb9f3a"
             ],
             [
              0.8888888888888888,
              "#fdca26"
             ],
             [
              1,
              "#f0f921"
             ]
            ],
            "type": "heatmap"
           }
          ],
          "heatmapgl": [
           {
            "colorbar": {
             "outlinewidth": 0,
             "ticks": ""
            },
            "colorscale": [
             [
              0,
              "#0d0887"
             ],
             [
              0.1111111111111111,
              "#46039f"
             ],
             [
              0.2222222222222222,
              "#7201a8"
             ],
             [
              0.3333333333333333,
              "#9c179e"
             ],
             [
              0.4444444444444444,
              "#bd3786"
             ],
             [
              0.5555555555555556,
              "#d8576b"
             ],
             [
              0.6666666666666666,
              "#ed7953"
             ],
             [
              0.7777777777777778,
              "#fb9f3a"
             ],
             [
              0.8888888888888888,
              "#fdca26"
             ],
             [
              1,
              "#f0f921"
             ]
            ],
            "type": "heatmapgl"
           }
          ],
          "histogram": [
           {
            "marker": {
             "pattern": {
              "fillmode": "overlay",
              "size": 10,
              "solidity": 0.2
             }
            },
            "type": "histogram"
           }
          ],
          "histogram2d": [
           {
            "colorbar": {
             "outlinewidth": 0,
             "ticks": ""
            },
            "colorscale": [
             [
              0,
              "#0d0887"
             ],
             [
              0.1111111111111111,
              "#46039f"
             ],
             [
              0.2222222222222222,
              "#7201a8"
             ],
             [
              0.3333333333333333,
              "#9c179e"
             ],
             [
              0.4444444444444444,
              "#bd3786"
             ],
             [
              0.5555555555555556,
              "#d8576b"
             ],
             [
              0.6666666666666666,
              "#ed7953"
             ],
             [
              0.7777777777777778,
              "#fb9f3a"
             ],
             [
              0.8888888888888888,
              "#fdca26"
             ],
             [
              1,
              "#f0f921"
             ]
            ],
            "type": "histogram2d"
           }
          ],
          "histogram2dcontour": [
           {
            "colorbar": {
             "outlinewidth": 0,
             "ticks": ""
            },
            "colorscale": [
             [
              0,
              "#0d0887"
             ],
             [
              0.1111111111111111,
              "#46039f"
             ],
             [
              0.2222222222222222,
              "#7201a8"
             ],
             [
              0.3333333333333333,
              "#9c179e"
             ],
             [
              0.4444444444444444,
              "#bd3786"
             ],
             [
              0.5555555555555556,
              "#d8576b"
             ],
             [
              0.6666666666666666,
              "#ed7953"
             ],
             [
              0.7777777777777778,
              "#fb9f3a"
             ],
             [
              0.8888888888888888,
              "#fdca26"
             ],
             [
              1,
              "#f0f921"
             ]
            ],
            "type": "histogram2dcontour"
           }
          ],
          "mesh3d": [
           {
            "colorbar": {
             "outlinewidth": 0,
             "ticks": ""
            },
            "type": "mesh3d"
           }
          ],
          "parcoords": [
           {
            "line": {
             "colorbar": {
              "outlinewidth": 0,
              "ticks": ""
             }
            },
            "type": "parcoords"
           }
          ],
          "pie": [
           {
            "automargin": true,
            "type": "pie"
           }
          ],
          "scatter": [
           {
            "fillpattern": {
             "fillmode": "overlay",
             "size": 10,
             "solidity": 0.2
            },
            "type": "scatter"
           }
          ],
          "scatter3d": [
           {
            "line": {
             "colorbar": {
              "outlinewidth": 0,
              "ticks": ""
             }
            },
            "marker": {
             "colorbar": {
              "outlinewidth": 0,
              "ticks": ""
             }
            },
            "type": "scatter3d"
           }
          ],
          "scattercarpet": [
           {
            "marker": {
             "colorbar": {
              "outlinewidth": 0,
              "ticks": ""
             }
            },
            "type": "scattercarpet"
           }
          ],
          "scattergeo": [
           {
            "marker": {
             "colorbar": {
              "outlinewidth": 0,
              "ticks": ""
             }
            },
            "type": "scattergeo"
           }
          ],
          "scattergl": [
           {
            "marker": {
             "colorbar": {
              "outlinewidth": 0,
              "ticks": ""
             }
            },
            "type": "scattergl"
           }
          ],
          "scattermapbox": [
           {
            "marker": {
             "colorbar": {
              "outlinewidth": 0,
              "ticks": ""
             }
            },
            "type": "scattermapbox"
           }
          ],
          "scatterpolar": [
           {
            "marker": {
             "colorbar": {
              "outlinewidth": 0,
              "ticks": ""
             }
            },
            "type": "scatterpolar"
           }
          ],
          "scatterpolargl": [
           {
            "marker": {
             "colorbar": {
              "outlinewidth": 0,
              "ticks": ""
             }
            },
            "type": "scatterpolargl"
           }
          ],
          "scatterternary": [
           {
            "marker": {
             "colorbar": {
              "outlinewidth": 0,
              "ticks": ""
             }
            },
            "type": "scatterternary"
           }
          ],
          "surface": [
           {
            "colorbar": {
             "outlinewidth": 0,
             "ticks": ""
            },
            "colorscale": [
             [
              0,
              "#0d0887"
             ],
             [
              0.1111111111111111,
              "#46039f"
             ],
             [
              0.2222222222222222,
              "#7201a8"
             ],
             [
              0.3333333333333333,
              "#9c179e"
             ],
             [
              0.4444444444444444,
              "#bd3786"
             ],
             [
              0.5555555555555556,
              "#d8576b"
             ],
             [
              0.6666666666666666,
              "#ed7953"
             ],
             [
              0.7777777777777778,
              "#fb9f3a"
             ],
             [
              0.8888888888888888,
              "#fdca26"
             ],
             [
              1,
              "#f0f921"
             ]
            ],
            "type": "surface"
           }
          ],
          "table": [
           {
            "cells": {
             "fill": {
              "color": "#EBF0F8"
             },
             "line": {
              "color": "white"
             }
            },
            "header": {
             "fill": {
              "color": "#C8D4E3"
             },
             "line": {
              "color": "white"
             }
            },
            "type": "table"
           }
          ]
         },
         "layout": {
          "annotationdefaults": {
           "arrowcolor": "#2a3f5f",
           "arrowhead": 0,
           "arrowwidth": 1
          },
          "autotypenumbers": "strict",
          "coloraxis": {
           "colorbar": {
            "outlinewidth": 0,
            "ticks": ""
           }
          },
          "colorscale": {
           "diverging": [
            [
             0,
             "#8e0152"
            ],
            [
             0.1,
             "#c51b7d"
            ],
            [
             0.2,
             "#de77ae"
            ],
            [
             0.3,
             "#f1b6da"
            ],
            [
             0.4,
             "#fde0ef"
            ],
            [
             0.5,
             "#f7f7f7"
            ],
            [
             0.6,
             "#e6f5d0"
            ],
            [
             0.7,
             "#b8e186"
            ],
            [
             0.8,
             "#7fbc41"
            ],
            [
             0.9,
             "#4d9221"
            ],
            [
             1,
             "#276419"
            ]
           ],
           "sequential": [
            [
             0,
             "#0d0887"
            ],
            [
             0.1111111111111111,
             "#46039f"
            ],
            [
             0.2222222222222222,
             "#7201a8"
            ],
            [
             0.3333333333333333,
             "#9c179e"
            ],
            [
             0.4444444444444444,
             "#bd3786"
            ],
            [
             0.5555555555555556,
             "#d8576b"
            ],
            [
             0.6666666666666666,
             "#ed7953"
            ],
            [
             0.7777777777777778,
             "#fb9f3a"
            ],
            [
             0.8888888888888888,
             "#fdca26"
            ],
            [
             1,
             "#f0f921"
            ]
           ],
           "sequentialminus": [
            [
             0,
             "#0d0887"
            ],
            [
             0.1111111111111111,
             "#46039f"
            ],
            [
             0.2222222222222222,
             "#7201a8"
            ],
            [
             0.3333333333333333,
             "#9c179e"
            ],
            [
             0.4444444444444444,
             "#bd3786"
            ],
            [
             0.5555555555555556,
             "#d8576b"
            ],
            [
             0.6666666666666666,
             "#ed7953"
            ],
            [
             0.7777777777777778,
             "#fb9f3a"
            ],
            [
             0.8888888888888888,
             "#fdca26"
            ],
            [
             1,
             "#f0f921"
            ]
           ]
          },
          "colorway": [
           "#636efa",
           "#EF553B",
           "#00cc96",
           "#ab63fa",
           "#FFA15A",
           "#19d3f3",
           "#FF6692",
           "#B6E880",
           "#FF97FF",
           "#FECB52"
          ],
          "font": {
           "color": "#2a3f5f"
          },
          "geo": {
           "bgcolor": "white",
           "lakecolor": "white",
           "landcolor": "#E5ECF6",
           "showlakes": true,
           "showland": true,
           "subunitcolor": "white"
          },
          "hoverlabel": {
           "align": "left"
          },
          "hovermode": "closest",
          "mapbox": {
           "style": "light"
          },
          "paper_bgcolor": "white",
          "plot_bgcolor": "#E5ECF6",
          "polar": {
           "angularaxis": {
            "gridcolor": "white",
            "linecolor": "white",
            "ticks": ""
           },
           "bgcolor": "#E5ECF6",
           "radialaxis": {
            "gridcolor": "white",
            "linecolor": "white",
            "ticks": ""
           }
          },
          "scene": {
           "xaxis": {
            "backgroundcolor": "#E5ECF6",
            "gridcolor": "white",
            "gridwidth": 2,
            "linecolor": "white",
            "showbackground": true,
            "ticks": "",
            "zerolinecolor": "white"
           },
           "yaxis": {
            "backgroundcolor": "#E5ECF6",
            "gridcolor": "white",
            "gridwidth": 2,
            "linecolor": "white",
            "showbackground": true,
            "ticks": "",
            "zerolinecolor": "white"
           },
           "zaxis": {
            "backgroundcolor": "#E5ECF6",
            "gridcolor": "white",
            "gridwidth": 2,
            "linecolor": "white",
            "showbackground": true,
            "ticks": "",
            "zerolinecolor": "white"
           }
          },
          "shapedefaults": {
           "line": {
            "color": "#2a3f5f"
           }
          },
          "ternary": {
           "aaxis": {
            "gridcolor": "white",
            "linecolor": "white",
            "ticks": ""
           },
           "baxis": {
            "gridcolor": "white",
            "linecolor": "white",
            "ticks": ""
           },
           "bgcolor": "#E5ECF6",
           "caxis": {
            "gridcolor": "white",
            "linecolor": "white",
            "ticks": ""
           }
          },
          "title": {
           "x": 0.05
          },
          "xaxis": {
           "automargin": true,
           "gridcolor": "white",
           "linecolor": "white",
           "ticks": "",
           "title": {
            "standoff": 15
           },
           "zerolinecolor": "white",
           "zerolinewidth": 2
          },
          "yaxis": {
           "automargin": true,
           "gridcolor": "white",
           "linecolor": "white",
           "ticks": "",
           "title": {
            "standoff": 15
           },
           "zerolinecolor": "white",
           "zerolinewidth": 2
          }
         }
        },
        "xaxis": {
         "anchor": "y",
         "domain": [
          0,
          1
         ],
         "title": {
          "text": "headquarter_location"
         }
        },
        "yaxis": {
         "anchor": "x",
         "domain": [
          0,
          1
         ],
         "title": {
          "text": "total_layoffs"
         }
        }
       }
      }
     },
     "metadata": {},
     "output_type": "display_data"
    }
   ],
   "source": [
    "px.scatter(data_frame=company,x=\"headquarter_location\",y=\"total_layoffs\",color=\"status\")"
   ]
  },
  {
   "cell_type": "code",
   "execution_count": null,
   "metadata": {},
   "outputs": [],
   "source": []
  }
 ],
 "metadata": {
  "kernelspec": {
   "display_name": "Python 3",
   "language": "python",
   "name": "python3"
  },
  "language_info": {
   "codemirror_mode": {
    "name": "ipython",
    "version": 3
   },
   "file_extension": ".py",
   "mimetype": "text/x-python",
   "name": "python",
   "nbconvert_exporter": "python",
   "pygments_lexer": "ipython3",
   "version": "3.10.7"
  },
  "orig_nbformat": 4
 },
 "nbformat": 4,
 "nbformat_minor": 2
}
